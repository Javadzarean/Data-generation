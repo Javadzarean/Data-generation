{
 "cells": [
  {
   "cell_type": "markdown",
   "metadata": {},
   "source": [
    "# By Kernel density"
   ]
  },
  {
   "cell_type": "code",
   "execution_count": null,
   "metadata": {},
   "outputs": [],
   "source": [
    "#In this method, We generate synthetic data using kernel density estimation (KDE).\n",
    "#For each column of the real data, we fit a Gaussian kernel density estimator to the data using sklearn.neighbors.KernelDensity.\n",
    "#We then use the fitted KDE to generate synthetic data using sample method.\n",
    "\n",
    "\n",
    "import numpy as np\n",
    "import pandas as pd\n",
    "from sklearn.neighbors import KernelDensity\n",
    "\n",
    "# Load the real data\n",
    "real_data = pd.read_csv('real_data.csv')\n",
    "\n",
    "# Generate synthetic data using kernel density estimation\n",
    "num_samples = 1000 # Number of additional rows to generate\n",
    "synth_data = pd.DataFrame()\n",
    "\n",
    "for col in real_data.columns:\n",
    "    # Fit kernel density estimation to the real data\n",
    "    kde = KernelDensity(kernel='gaussian', bandwidth=0.5).fit(real_data[col].values.reshape(-1,1))\n",
    "    \n",
    "    # Generate synthetic data using kernel density estimation\n",
    "    synth_col = kde.sample(num_samples)\n",
    "    \n",
    "    # Append column to synthetic data\n",
    "    synth_data[col] = synth_col\n",
    "\n",
    "# Save synthetic data to CSV file\n",
    "synth_data.to_csv('synthetic_data.csv', index=False)"
   ]
  },
  {
   "cell_type": "markdown",
   "metadata": {},
   "source": [
    "# Generating data using Meant and STD of real data"
   ]
  },
  {
   "cell_type": "code",
   "execution_count": null,
   "metadata": {},
   "outputs": [],
   "source": [
    "#In this method, We generate synthetic data by looping over each column and using np.random.normal to generate data that follows \n",
    "#a normal distribution with the calculated mean and standard deviation.\n",
    "#Finally, we append each column to a new DataFrame called synth_data.\n",
    "\n",
    "\n",
    "import numpy as np\n",
    "import pandas as pd\n",
    "from scipy.stats import norm\n",
    "\n",
    "# Load the real data\n",
    "real_data = pd.read_csv('real_data.csv')\n",
    "\n",
    "# Calculate mean and standard deviation for each column\n",
    "means = real_data.mean()\n",
    "stds = real_data.std()\n",
    "\n",
    "# Generate synthetic data\n",
    "num_samples = 1000 # Number of additional rows to generate\n",
    "synth_data = pd.DataFrame()\n",
    "\n",
    "for col in real_data.columns:\n",
    "    mean = means[col]\n",
    "    std = stds[col]\n",
    "    \n",
    "    # Generate data using normal distribution\n",
    "    synth_col = np.random.normal(loc=mean, scale=std, size=num_samples)\n",
    "    \n",
    "    # Append column to synthetic data\n",
    "    synth_data[col] = synth_col\n",
    "\n",
    "# Save synthetic data to CSV file\n",
    "synth_data.to_csv('synthetic_data.csv', index=False)\n"
   ]
  },
  {
   "cell_type": "markdown",
   "metadata": {},
   "source": [
    "# By using multivariate normal distribution"
   ]
  },
  {
   "cell_type": "code",
   "execution_count": null,
   "metadata": {},
   "outputs": [],
   "source": [
    "#In this method, We generate synthetic data using a multivariate normal distribution\n",
    "#with the calculated mean and covariance matrix using multivariate_normal.rvs from the scipy.stats module.\n",
    "#Finally, we create a new DataFrame called synth_data using the generated synthetic data and column names from the real data.\n",
    "\n",
    "\n",
    "# Import necessary libraries\n",
    "import numpy as np\n",
    "import pandas as pd\n",
    "from scipy.stats import multivariate_normal\n",
    "\n",
    "# Load the real data\n",
    "real_data = pd.read_csv('real_data.csv')\n",
    "\n",
    "# Calculate mean and covariance matrix for the real data\n",
    "mean = real_data.mean()\n",
    "cov = real_data.cov()\n",
    "\n",
    "# Generate synthetic data\n",
    "num_samples = 1000 # Number of additional rows to generate\n",
    "synth_data = pd.DataFrame()\n",
    "\n",
    "# Generate data using multivariate normal distribution\n",
    "synth_data = pd.DataFrame(multivariate_normal.rvs(mean=mean, cov=cov, size=num_samples), columns=real_data.columns)\n",
    "\n",
    "# Save synthetic data to CSV file\n",
    "synth_data.to_csv('synthetic_data.csv', index=False)\n",
    "\n",
    "#index=False to exclude the index column."
   ]
  }
 ],
 "metadata": {
  "kernelspec": {
   "display_name": "Python 3",
   "language": "python",
   "name": "python3"
  },
  "language_info": {
   "codemirror_mode": {
    "name": "ipython",
    "version": 3
   },
   "file_extension": ".py",
   "mimetype": "text/x-python",
   "name": "python",
   "nbconvert_exporter": "python",
   "pygments_lexer": "ipython3",
   "version": "3.8.3"
  }
 },
 "nbformat": 4,
 "nbformat_minor": 4
}
